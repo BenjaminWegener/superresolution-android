{
  "nbformat": 4,
  "nbformat_minor": 0,
  "metadata": {
    "accelerator": "GPU",
    "colab": {
      "name": "superresolution-android.ipynb",
      "provenance": [],
      "collapsed_sections": [],
      "toc_visible": true,
      "machine_shape": "hm"
    },
    "kernelspec": {
      "name": "python3",
      "display_name": "Python 3"
    },
    "language_info": {
      "codemirror_mode": {
        "name": "ipython",
        "version": 3
      },
      "file_extension": ".py",
      "mimetype": "text/x-python",
      "name": "python",
      "nbconvert_exporter": "python",
      "pygments_lexer": "ipython3",
      "version": "3.7.4"
    }
  },
  "cells": [
    {
      "cell_type": "markdown",
      "metadata": {
        "colab_type": "text",
        "id": "Y52zwvlpHvCC"
      },
      "source": [
        "## superresolution\n",
        "single image superresolution (4x zoom)\n",
        "- channel attention mechanism [[paper]](https://arxiv.org/abs/1807.02758)\n",
        "- residual in residual architecture [[paper]](https://arxiv.org/abs/1505.04597)\n",
        "- subpixel convolution / pixelshuffle [[paper]](https://arxiv.org/abs/1609.05158)\n",
        "- running on [tensorflow/google colab](https://colab.research.google.com/) AND on [plaidml](https://www.intel.ai/plaidml/)\n",
        "- using the famous [Set14](https://www.google.com/search?q=set14) dataset ONLY (with heavy augmentation) - no validation needed\n",
        "\n",
        "jupyter notebook by [Benjamin Wegener](https://scholar.google.de/citations?user=yEn9St8AAAAJ) from [github](https://www.github.com/BenjaminWegener/keras-examples)"
      ]
    },
    {
      "cell_type": "markdown",
      "metadata": {
        "colab_type": "text",
        "id": "s-U33BDYHvCF"
      },
      "source": [
        "### options\n"
      ]
    },
    {
      "cell_type": "code",
      "metadata": {
        "colab_type": "code",
        "id": "bDQFzxuJHvCH",
        "colab": {}
      },
      "source": [
        "run_on_google_colab = True #use PlaidML as Backend, change this to 'True' to run on colab/tf\n",
        "epochs = 25 #Number of epochs to train\n",
        "scale = 4 #How much should we upscale images\n",
        "channels = 3 #channels of low resolution image\n",
        "batch_size = 14 #what batch-size should we use (decrease if you encounter video memory errors)\n",
        "steps_per_epoch = 1000 #How much iterations per epoch to train\n",
        "height_lr = 64 #height of low resolution image\n",
        "width_lr = height_lr #width of low resolution image\n",
        "gen_lr = 0.001 #learning rate of generator\n",
        "logging_steps = 200 #how often to update the training log\n",
        "height_hr = int(height_lr * scale) # High-resolution image height\n",
        "width_hr = int(width_lr * scale) # High-resolution image width"
      ],
      "execution_count": 0,
      "outputs": []
    },
    {
      "cell_type": "markdown",
      "metadata": {
        "colab_type": "text",
        "id": "GzyzlkF3HvCL"
      },
      "source": [
        "### imports"
      ]
    },
    {
      "cell_type": "code",
      "metadata": {
        "colab_type": "code",
        "id": "v78MsA4CHvCM",
        "outputId": "fe39d214-b7f5-4bd2-9a9c-f1b293bb41b7",
        "colab": {
          "base_uri": "https://localhost:8080/",
          "height": 216
        }
      },
      "source": [
        "import os\n",
        "if run_on_google_colab:\n",
        "    %cd /content\n",
        "    !git clone https://github.com/BenjaminWegener/superresolution-android #download Dataset\n",
        "    %cd superresolution-android\n",
        "else:\n",
        "    os.environ['KERAS_BACKEND'] = 'plaidml.keras.backend'\n",
        "import numpy as np\n",
        "from keras.models import Model, Input, load_model\n",
        "from keras.layers import *\n",
        "from keras.optimizers import Adam\n",
        "from keras import backend as K\n",
        "from keras.callbacks import LambdaCallback\n",
        "from IPython.display import clear_output\n",
        "import matplotlib.pyplot as plt\n",
        "from keras.preprocessing.image import ImageDataGenerator\n",
        "import random\n",
        "%matplotlib inline    "
      ],
      "execution_count": 2,
      "outputs": [
        {
          "output_type": "stream",
          "text": [
            "/content\n",
            "Cloning into 'superresolution-android'...\n",
            "remote: Enumerating objects: 4, done.\u001b[K\n",
            "remote: Counting objects: 100% (4/4), done.\u001b[K\n",
            "remote: Compressing objects: 100% (3/3), done.\u001b[K\n",
            "remote: Total 4 (delta 0), reused 0 (delta 0), pack-reused 0\n",
            "Unpacking objects: 100% (4/4), done.\n",
            "/content/superresolution-android\n"
          ],
          "name": "stdout"
        },
        {
          "output_type": "stream",
          "text": [
            "Using TensorFlow backend.\n"
          ],
          "name": "stderr"
        },
        {
          "output_type": "display_data",
          "data": {
            "text/html": [
              "<p style=\"color: red;\">\n",
              "The default version of TensorFlow in Colab will soon switch to TensorFlow 2.x.<br>\n",
              "We recommend you <a href=\"https://www.tensorflow.org/guide/migrate\" target=\"_blank\">upgrade</a> now \n",
              "or ensure your notebook will continue to use TensorFlow 1.x via the <code>%tensorflow_version 1.x</code> magic:\n",
              "<a href=\"https://colab.research.google.com/notebooks/tensorflow_version.ipynb\" target=\"_blank\">more info</a>.</p>\n"
            ],
            "text/plain": [
              "<IPython.core.display.HTML object>"
            ]
          },
          "metadata": {
            "tags": []
          }
        }
      ]
    },
    {
      "cell_type": "markdown",
      "metadata": {
        "colab_type": "text",
        "id": "WyQf_dwWHvCR"
      },
      "source": [
        "### function for image visualization"
      ]
    },
    {
      "cell_type": "code",
      "metadata": {
        "colab_type": "code",
        "id": "Ygs-7DxwHvCS",
        "colab": {}
      },
      "source": [
        "def show(tensors):\n",
        "    plt.rcParams['figure.figsize'] = [20, 10]\n",
        "    fig = plt.figure()\n",
        "    for i in range(len(tensors)):\n",
        "        try:\n",
        "            tensors[i] = np.squeeze(tensors[i], axis = 0)\n",
        "        except:\n",
        "            pass\n",
        "        tensors[i] = (tensors[i] + 1.) * 127.5\n",
        "        fig.add_subplot(1,len(tensors), i + 1)\n",
        "        plt.imshow(tensors[i].astype(np.uint8), interpolation = 'nearest')\n",
        "    plt.setp(plt.gcf().get_axes(), xticks=[], yticks=[]);\n",
        "    plt.show()"
      ],
      "execution_count": 0,
      "outputs": []
    },
    {
      "cell_type": "markdown",
      "metadata": {
        "colab_type": "text",
        "id": "SJi-rBgoHvCU"
      },
      "source": [
        "### dataset function"
      ]
    },
    {
      "cell_type": "code",
      "metadata": {
        "colab_type": "code",
        "id": "m5lxEgg6HvCV",
        "colab": {}
      },
      "source": [
        "# return batch of augmented train and target images with quantity n_samples\n",
        "def get_batch(n_samples, height, width, channels):\n",
        "    # define a ImageGenerator instance from keras with augmentations\n",
        "    image_gen = ImageDataGenerator(rotation_range=360,\n",
        "                           width_shift_range=0.5,\n",
        "                           height_shift_range=0.5,\n",
        "                           zoom_range=[0.2, 0.7],\n",
        "                           horizontal_flip=True,\n",
        "                           vertical_flip=True,\n",
        "                           fill_mode='reflect',\n",
        "                           data_format='channels_last',\n",
        "                           brightness_range=[0.5, 1.5])\n",
        "    #seed for random augmentations\n",
        "    random_seed = int(random.random() * 100000)\n",
        "    #generate augmented images\n",
        "    y_train = image_gen.flow_from_directory('.', target_size = (height * scale, width * scale), batch_size = n_samples, class_mode = None, seed = random_seed)\n",
        "    y_train = y_train.__getitem__(0).copy() #fix for 'array doesn't own its data'\n",
        "    x_train = np.empty((len(y_train), height, width, channels))\n",
        "    for i in range(n_samples):\n",
        "        # source images are zoomed to 25%\n",
        "        input_size = height * scale\n",
        "        output_size = height\n",
        "        fraction = input_size // output_size\n",
        "        x_train[i] = y_train[i].reshape((output_size, fraction, output_size, fraction, channels)).mean(3).mean(1)\n",
        "    #normalize images to [-1, 1]\n",
        "    x_train = x_train/127.5 - 1.\n",
        "    y_train = y_train/127.5 - 1.\n",
        "    return x_train, y_train"
      ],
      "execution_count": 0,
      "outputs": []
    },
    {
      "cell_type": "markdown",
      "metadata": {
        "colab_type": "text",
        "id": "A9P-WqYbHvCX"
      },
      "source": [
        "### base functions"
      ]
    },
    {
      "cell_type": "code",
      "metadata": {
        "colab_type": "code",
        "id": "tdeUTBRaHvCY",
        "colab": {}
      },
      "source": [
        "def fast_normalization(x): # use clipping instead of batchnormalization for network stabilization\n",
        "    return Lambda(lambda x: K.clip(x, -1, 1), output_shape=lambda s: (s[0], s[1], s[2], s[3]))(x)\n",
        "\n",
        "def residual_block(inputs): #combined pixel shuffle and squeeze\n",
        "    x = inputs\n",
        "    x = Conv2D(32, kernel_size = 9, activation = 'tanh', padding = 'same', strides = 2)(x)\n",
        "    x = SeparableConv2D(128, kernel_size = 9, activation = 'relu', padding = 'same')(x) # rapidly increase speed at slightly worse results\n",
        "    x = fast_normalization(x)\n",
        "    x = Lambda(lambda x: K.reshape(x, (K.shape(x)[0], K.shape(x)[1], K.shape(x)[2], 32, 2, 2)), output_shape = lambda s: (s[0], s[1], s[2], s[3] // 4, 2, 2))(x)\n",
        "    x = Permute((3, 2, 4, 1, 5))(x)\n",
        "    x = Lambda(lambda x: K.reshape(x, (K.shape(x)[0], K.shape(x)[1], K.shape(x)[2] * K.shape(x)[3], K.shape(x)[4] * K.shape(x)[5])), output_shape = lambda s: (s[0], s[1], s[2] * s[3], s[4] * s[5]))(x)\n",
        "    x = Permute((3, 2, 1))(x)\n",
        "    #---\n",
        "    x1 = x\n",
        "    x = GlobalAveragePooling2D()(x)\n",
        "    x = Dense(8, activation = 'relu')(x) #reduction like in RCAN \n",
        "    x = Dense(32, activation = 'hard_sigmoid')(x)\n",
        "    x = Reshape((1, 1, 32))(x)\n",
        "    x = Multiply()([x1, x])\n",
        "    x = Add()([inputs, x]) \n",
        "    return x\n",
        "\n",
        "def upsample(inputs): #combined pixel shuffle and squeeze with 2x upscale\n",
        "    x = inputs\n",
        "    x = Conv2D(12, kernel_size = 9, activation = 'tanh', padding = 'same', strides = 1)(x)\n",
        "    x = fast_normalization(x)\n",
        "    x = Lambda(lambda x: K.reshape(x, (K.shape(x)[0], K.shape(x)[1], K.shape(x)[2], 3, 2, 2)), output_shape = lambda s: (s[0], s[1], s[2], s[3] // 4, 2, 2))(x)\n",
        "    x = Permute((3, 2, 4, 1, 5))(x)\n",
        "    x = Lambda(lambda x: K.reshape(x, (K.shape(x)[0], K.shape(x)[1], K.shape(x)[2] * K.shape(x)[3], K.shape(x)[4] * K.shape(x)[5])), output_shape = lambda s: (s[0], s[1], s[2] * s[3], s[4] * s[5]))(x)\n",
        "    x = Permute((3, 2, 1))(x)\n",
        "    #---\n",
        "    x1 = x\n",
        "    x = GlobalAveragePooling2D()(x)\n",
        "    x = Dense(2, activation = 'relu')(x) #reduction like in RCAN \n",
        "    x = Dense(3, activation = 'hard_sigmoid')(x)\n",
        "    x = Reshape((1, 1, 3))(x)\n",
        "    x = Multiply()([x1, x])\n",
        "    #x = Add()([inputs, x]) #can't skip connection here, needs to upsample\n",
        "    return x"
      ],
      "execution_count": 0,
      "outputs": []
    },
    {
      "cell_type": "markdown",
      "metadata": {
        "colab_type": "text",
        "id": "Gvy5AbKwHvCi"
      },
      "source": [
        "### build generator model"
      ]
    },
    {
      "cell_type": "code",
      "metadata": {
        "colab_type": "code",
        "id": "SKFcfdh_HvCf",
        "outputId": "f3928718-ddb1-43ca-ed57-709d10da80c7",
        "scrolled": true,
        "colab": {
          "base_uri": "https://localhost:8080/",
          "height": 1000
        }
      },
      "source": [
        "x = inputs = Input(shape = (height_lr, width_lr, channels))\n",
        "x = Conv2D(32, kernel_size = 3, padding = 'same', activation = 'tanh')(x)\n",
        "x = residual_block(x)\n",
        "x = residual_block(x)\n",
        "x = residual_block(x)\n",
        "x = residual_block(x)\n",
        "x = Conv2D(3, kernel_size = 3, padding = 'same', activation = 'tanh')(x)\n",
        "x = fast_normalization(x)\n",
        "x = upsample(x)\n",
        "x = upsample(x)\n",
        "\n",
        "generator = Model(inputs = inputs, outputs = x)\n",
        "generator.summary()"
      ],
      "execution_count": 6,
      "outputs": [
        {
          "output_type": "stream",
          "text": [
            "WARNING:tensorflow:From /usr/local/lib/python3.6/dist-packages/keras/backend/tensorflow_backend.py:66: The name tf.get_default_graph is deprecated. Please use tf.compat.v1.get_default_graph instead.\n",
            "\n",
            "WARNING:tensorflow:From /usr/local/lib/python3.6/dist-packages/keras/backend/tensorflow_backend.py:541: The name tf.placeholder is deprecated. Please use tf.compat.v1.placeholder instead.\n",
            "\n",
            "WARNING:tensorflow:From /usr/local/lib/python3.6/dist-packages/keras/backend/tensorflow_backend.py:4432: The name tf.random_uniform is deprecated. Please use tf.random.uniform instead.\n",
            "\n",
            "Model: \"model_1\"\n",
            "__________________________________________________________________________________________________\n",
            "Layer (type)                    Output Shape         Param #     Connected to                     \n",
            "==================================================================================================\n",
            "input_1 (InputLayer)            (None, 64, 64, 3)    0                                            \n",
            "__________________________________________________________________________________________________\n",
            "conv2d_1 (Conv2D)               (None, 64, 64, 32)   896         input_1[0][0]                    \n",
            "__________________________________________________________________________________________________\n",
            "conv2d_2 (Conv2D)               (None, 32, 32, 32)   82976       conv2d_1[0][0]                   \n",
            "__________________________________________________________________________________________________\n",
            "separable_conv2d_1 (SeparableCo (None, 32, 32, 128)  6816        conv2d_2[0][0]                   \n",
            "__________________________________________________________________________________________________\n",
            "lambda_1 (Lambda)               (None, 32, 32, 128)  0           separable_conv2d_1[0][0]         \n",
            "__________________________________________________________________________________________________\n",
            "lambda_2 (Lambda)               (None, 32, 32, 32, 2 0           lambda_1[0][0]                   \n",
            "__________________________________________________________________________________________________\n",
            "permute_1 (Permute)             (None, 32, 32, 2, 32 0           lambda_2[0][0]                   \n",
            "__________________________________________________________________________________________________\n",
            "lambda_3 (Lambda)               (None, 32, 64, 64)   0           permute_1[0][0]                  \n",
            "__________________________________________________________________________________________________\n",
            "permute_2 (Permute)             (None, 64, 64, 32)   0           lambda_3[0][0]                   \n",
            "__________________________________________________________________________________________________\n",
            "global_average_pooling2d_1 (Glo (None, 32)           0           permute_2[0][0]                  \n",
            "__________________________________________________________________________________________________\n",
            "dense_1 (Dense)                 (None, 8)            264         global_average_pooling2d_1[0][0] \n",
            "__________________________________________________________________________________________________\n",
            "dense_2 (Dense)                 (None, 32)           288         dense_1[0][0]                    \n",
            "__________________________________________________________________________________________________\n",
            "reshape_1 (Reshape)             (None, 1, 1, 32)     0           dense_2[0][0]                    \n",
            "__________________________________________________________________________________________________\n",
            "multiply_1 (Multiply)           (None, 64, 64, 32)   0           permute_2[0][0]                  \n",
            "                                                                 reshape_1[0][0]                  \n",
            "__________________________________________________________________________________________________\n",
            "add_1 (Add)                     (None, 64, 64, 32)   0           conv2d_1[0][0]                   \n",
            "                                                                 multiply_1[0][0]                 \n",
            "__________________________________________________________________________________________________\n",
            "conv2d_3 (Conv2D)               (None, 32, 32, 32)   82976       add_1[0][0]                      \n",
            "__________________________________________________________________________________________________\n",
            "separable_conv2d_2 (SeparableCo (None, 32, 32, 128)  6816        conv2d_3[0][0]                   \n",
            "__________________________________________________________________________________________________\n",
            "lambda_4 (Lambda)               (None, 32, 32, 128)  0           separable_conv2d_2[0][0]         \n",
            "__________________________________________________________________________________________________\n",
            "lambda_5 (Lambda)               (None, 32, 32, 32, 2 0           lambda_4[0][0]                   \n",
            "__________________________________________________________________________________________________\n",
            "permute_3 (Permute)             (None, 32, 32, 2, 32 0           lambda_5[0][0]                   \n",
            "__________________________________________________________________________________________________\n",
            "lambda_6 (Lambda)               (None, 32, 64, 64)   0           permute_3[0][0]                  \n",
            "__________________________________________________________________________________________________\n",
            "permute_4 (Permute)             (None, 64, 64, 32)   0           lambda_6[0][0]                   \n",
            "__________________________________________________________________________________________________\n",
            "global_average_pooling2d_2 (Glo (None, 32)           0           permute_4[0][0]                  \n",
            "__________________________________________________________________________________________________\n",
            "dense_3 (Dense)                 (None, 8)            264         global_average_pooling2d_2[0][0] \n",
            "__________________________________________________________________________________________________\n",
            "dense_4 (Dense)                 (None, 32)           288         dense_3[0][0]                    \n",
            "__________________________________________________________________________________________________\n",
            "reshape_2 (Reshape)             (None, 1, 1, 32)     0           dense_4[0][0]                    \n",
            "__________________________________________________________________________________________________\n",
            "multiply_2 (Multiply)           (None, 64, 64, 32)   0           permute_4[0][0]                  \n",
            "                                                                 reshape_2[0][0]                  \n",
            "__________________________________________________________________________________________________\n",
            "add_2 (Add)                     (None, 64, 64, 32)   0           add_1[0][0]                      \n",
            "                                                                 multiply_2[0][0]                 \n",
            "__________________________________________________________________________________________________\n",
            "conv2d_4 (Conv2D)               (None, 32, 32, 32)   82976       add_2[0][0]                      \n",
            "__________________________________________________________________________________________________\n",
            "separable_conv2d_3 (SeparableCo (None, 32, 32, 128)  6816        conv2d_4[0][0]                   \n",
            "__________________________________________________________________________________________________\n",
            "lambda_7 (Lambda)               (None, 32, 32, 128)  0           separable_conv2d_3[0][0]         \n",
            "__________________________________________________________________________________________________\n",
            "lambda_8 (Lambda)               (None, 32, 32, 32, 2 0           lambda_7[0][0]                   \n",
            "__________________________________________________________________________________________________\n",
            "permute_5 (Permute)             (None, 32, 32, 2, 32 0           lambda_8[0][0]                   \n",
            "__________________________________________________________________________________________________\n",
            "lambda_9 (Lambda)               (None, 32, 64, 64)   0           permute_5[0][0]                  \n",
            "__________________________________________________________________________________________________\n",
            "permute_6 (Permute)             (None, 64, 64, 32)   0           lambda_9[0][0]                   \n",
            "__________________________________________________________________________________________________\n",
            "global_average_pooling2d_3 (Glo (None, 32)           0           permute_6[0][0]                  \n",
            "__________________________________________________________________________________________________\n",
            "dense_5 (Dense)                 (None, 8)            264         global_average_pooling2d_3[0][0] \n",
            "__________________________________________________________________________________________________\n",
            "dense_6 (Dense)                 (None, 32)           288         dense_5[0][0]                    \n",
            "__________________________________________________________________________________________________\n",
            "reshape_3 (Reshape)             (None, 1, 1, 32)     0           dense_6[0][0]                    \n",
            "__________________________________________________________________________________________________\n",
            "multiply_3 (Multiply)           (None, 64, 64, 32)   0           permute_6[0][0]                  \n",
            "                                                                 reshape_3[0][0]                  \n",
            "__________________________________________________________________________________________________\n",
            "add_3 (Add)                     (None, 64, 64, 32)   0           add_2[0][0]                      \n",
            "                                                                 multiply_3[0][0]                 \n",
            "__________________________________________________________________________________________________\n",
            "conv2d_5 (Conv2D)               (None, 32, 32, 32)   82976       add_3[0][0]                      \n",
            "__________________________________________________________________________________________________\n",
            "separable_conv2d_4 (SeparableCo (None, 32, 32, 128)  6816        conv2d_5[0][0]                   \n",
            "__________________________________________________________________________________________________\n",
            "lambda_10 (Lambda)              (None, 32, 32, 128)  0           separable_conv2d_4[0][0]         \n",
            "__________________________________________________________________________________________________\n",
            "lambda_11 (Lambda)              (None, 32, 32, 32, 2 0           lambda_10[0][0]                  \n",
            "__________________________________________________________________________________________________\n",
            "permute_7 (Permute)             (None, 32, 32, 2, 32 0           lambda_11[0][0]                  \n",
            "__________________________________________________________________________________________________\n",
            "lambda_12 (Lambda)              (None, 32, 64, 64)   0           permute_7[0][0]                  \n",
            "__________________________________________________________________________________________________\n",
            "permute_8 (Permute)             (None, 64, 64, 32)   0           lambda_12[0][0]                  \n",
            "__________________________________________________________________________________________________\n",
            "global_average_pooling2d_4 (Glo (None, 32)           0           permute_8[0][0]                  \n",
            "__________________________________________________________________________________________________\n",
            "dense_7 (Dense)                 (None, 8)            264         global_average_pooling2d_4[0][0] \n",
            "__________________________________________________________________________________________________\n",
            "dense_8 (Dense)                 (None, 32)           288         dense_7[0][0]                    \n",
            "__________________________________________________________________________________________________\n",
            "reshape_4 (Reshape)             (None, 1, 1, 32)     0           dense_8[0][0]                    \n",
            "__________________________________________________________________________________________________\n",
            "multiply_4 (Multiply)           (None, 64, 64, 32)   0           permute_8[0][0]                  \n",
            "                                                                 reshape_4[0][0]                  \n",
            "__________________________________________________________________________________________________\n",
            "add_4 (Add)                     (None, 64, 64, 32)   0           add_3[0][0]                      \n",
            "                                                                 multiply_4[0][0]                 \n",
            "__________________________________________________________________________________________________\n",
            "conv2d_6 (Conv2D)               (None, 64, 64, 3)    867         add_4[0][0]                      \n",
            "__________________________________________________________________________________________________\n",
            "lambda_13 (Lambda)              (None, 64, 64, 3)    0           conv2d_6[0][0]                   \n",
            "__________________________________________________________________________________________________\n",
            "conv2d_7 (Conv2D)               (None, 64, 64, 12)   2928        lambda_13[0][0]                  \n",
            "__________________________________________________________________________________________________\n",
            "lambda_14 (Lambda)              (None, 64, 64, 12)   0           conv2d_7[0][0]                   \n",
            "__________________________________________________________________________________________________\n",
            "lambda_15 (Lambda)              (None, 64, 64, 3, 2, 0           lambda_14[0][0]                  \n",
            "__________________________________________________________________________________________________\n",
            "permute_9 (Permute)             (None, 3, 64, 2, 64, 0           lambda_15[0][0]                  \n",
            "__________________________________________________________________________________________________\n",
            "lambda_16 (Lambda)              (None, 3, 128, 128)  0           permute_9[0][0]                  \n",
            "__________________________________________________________________________________________________\n",
            "permute_10 (Permute)            (None, 128, 128, 3)  0           lambda_16[0][0]                  \n",
            "__________________________________________________________________________________________________\n",
            "global_average_pooling2d_5 (Glo (None, 3)            0           permute_10[0][0]                 \n",
            "__________________________________________________________________________________________________\n",
            "dense_9 (Dense)                 (None, 2)            8           global_average_pooling2d_5[0][0] \n",
            "__________________________________________________________________________________________________\n",
            "dense_10 (Dense)                (None, 3)            9           dense_9[0][0]                    \n",
            "__________________________________________________________________________________________________\n",
            "reshape_5 (Reshape)             (None, 1, 1, 3)      0           dense_10[0][0]                   \n",
            "__________________________________________________________________________________________________\n",
            "multiply_5 (Multiply)           (None, 128, 128, 3)  0           permute_10[0][0]                 \n",
            "                                                                 reshape_5[0][0]                  \n",
            "__________________________________________________________________________________________________\n",
            "conv2d_8 (Conv2D)               (None, 128, 128, 12) 2928        multiply_5[0][0]                 \n",
            "__________________________________________________________________________________________________\n",
            "lambda_17 (Lambda)              (None, 128, 128, 12) 0           conv2d_8[0][0]                   \n",
            "__________________________________________________________________________________________________\n",
            "lambda_18 (Lambda)              (None, 128, 128, 3,  0           lambda_17[0][0]                  \n",
            "__________________________________________________________________________________________________\n",
            "permute_11 (Permute)            (None, 3, 128, 2, 12 0           lambda_18[0][0]                  \n",
            "__________________________________________________________________________________________________\n",
            "lambda_19 (Lambda)              (None, 3, 256, 256)  0           permute_11[0][0]                 \n",
            "__________________________________________________________________________________________________\n",
            "permute_12 (Permute)            (None, 256, 256, 3)  0           lambda_19[0][0]                  \n",
            "__________________________________________________________________________________________________\n",
            "global_average_pooling2d_6 (Glo (None, 3)            0           permute_12[0][0]                 \n",
            "__________________________________________________________________________________________________\n",
            "dense_11 (Dense)                (None, 2)            8           global_average_pooling2d_6[0][0] \n",
            "__________________________________________________________________________________________________\n",
            "dense_12 (Dense)                (None, 3)            9           dense_11[0][0]                   \n",
            "__________________________________________________________________________________________________\n",
            "reshape_6 (Reshape)             (None, 1, 1, 3)      0           dense_12[0][0]                   \n",
            "__________________________________________________________________________________________________\n",
            "multiply_6 (Multiply)           (None, 256, 256, 3)  0           permute_12[0][0]                 \n",
            "                                                                 reshape_6[0][0]                  \n",
            "==================================================================================================\n",
            "Total params: 369,029\n",
            "Trainable params: 369,029\n",
            "Non-trainable params: 0\n",
            "__________________________________________________________________________________________________\n"
          ],
          "name": "stdout"
        }
      ]
    },
    {
      "cell_type": "markdown",
      "metadata": {
        "colab_type": "text",
        "id": "EmBC-aMQHvCk"
      },
      "source": [
        "### train"
      ]
    },
    {
      "cell_type": "code",
      "metadata": {
        "colab_type": "code",
        "id": "hkYfqMpN2MIQ",
        "outputId": "e78e9acb-9de9-4f27-9d40-615bd5ab8771",
        "scrolled": false,
        "colab": {
          "base_uri": "https://localhost:8080/",
          "height": 442
        }
      },
      "source": [
        "#load checkpoint & compile the generator network\n",
        "print('trying to load last saved weights...', end = ' ')\n",
        "try:\n",
        "    generator.load_weights('superresolution_weights')\n",
        "    print('success.')\n",
        "except:\n",
        "    print('failed')\n",
        "    pass\n",
        "\n",
        "generator.compile(optimizer = Adam(gen_lr), loss = 'mae')\n",
        "\n",
        "# Train generator\n",
        "def logging(epoch, logs):\n",
        "    if epoch % logging_steps == 0:\n",
        "        testX, testY = get_batch(1, height_lr, width_lr, channels)\n",
        "        clear_output()\n",
        "        print('epoch', real_epoch + 1, '/', epochs, '--> step', epoch, '/', steps_per_epoch, ': loss', logs['loss'])\n",
        "        testZ = generator.predict(testX)\n",
        "        show([testX, testZ, testY])\n",
        "        print('test_loss:', generator.evaluate(testX, testY, verbose = 0))\n",
        "logging_callback = LambdaCallback(\n",
        "    on_epoch_end=lambda epoch, logs: logging(epoch, logs)\n",
        ")\n",
        "for real_epoch in range(epochs):\n",
        "    X, Y = get_batch(batch_size, height_lr, width_lr, channels)\n",
        "    generator.fit(X, Y, batch_size, epochs = steps_per_epoch, verbose = 0, callbacks = [logging_callback], shuffle = True)\n",
        "    try:\n",
        "        print('trying to save weights...', end = ' ')\n",
        "        generator.save_weights('superresolution_weights')\n",
        "    except:\n",
        "        print('failed.')"
      ],
      "execution_count": 7,
      "outputs": [
        {
          "output_type": "stream",
          "text": [
            "trying to load last saved weights... failed\n",
            "WARNING:tensorflow:From /usr/local/lib/python3.6/dist-packages/keras/optimizers.py:793: The name tf.train.Optimizer is deprecated. Please use tf.compat.v1.train.Optimizer instead.\n",
            "\n",
            "Found 0 images belonging to 1 classes.\n"
          ],
          "name": "stdout"
        },
        {
          "output_type": "error",
          "ename": "ValueError",
          "evalue": "ignored",
          "traceback": [
            "\u001b[0;31m---------------------------------------------------------------------------\u001b[0m",
            "\u001b[0;31mValueError\u001b[0m                                Traceback (most recent call last)",
            "\u001b[0;32m<ipython-input-7-7b40b4fe87e8>\u001b[0m in \u001b[0;36m<module>\u001b[0;34m()\u001b[0m\n\u001b[1;32m     22\u001b[0m )\n\u001b[1;32m     23\u001b[0m \u001b[0;32mfor\u001b[0m \u001b[0mreal_epoch\u001b[0m \u001b[0;32min\u001b[0m \u001b[0mrange\u001b[0m\u001b[0;34m(\u001b[0m\u001b[0mepochs\u001b[0m\u001b[0;34m)\u001b[0m\u001b[0;34m:\u001b[0m\u001b[0;34m\u001b[0m\u001b[0;34m\u001b[0m\u001b[0m\n\u001b[0;32m---> 24\u001b[0;31m     \u001b[0mX\u001b[0m\u001b[0;34m,\u001b[0m \u001b[0mY\u001b[0m \u001b[0;34m=\u001b[0m \u001b[0mget_batch\u001b[0m\u001b[0;34m(\u001b[0m\u001b[0mbatch_size\u001b[0m\u001b[0;34m,\u001b[0m \u001b[0mheight_lr\u001b[0m\u001b[0;34m,\u001b[0m \u001b[0mwidth_lr\u001b[0m\u001b[0;34m,\u001b[0m \u001b[0mchannels\u001b[0m\u001b[0;34m)\u001b[0m\u001b[0;34m\u001b[0m\u001b[0;34m\u001b[0m\u001b[0m\n\u001b[0m\u001b[1;32m     25\u001b[0m     \u001b[0mgenerator\u001b[0m\u001b[0;34m.\u001b[0m\u001b[0mfit\u001b[0m\u001b[0;34m(\u001b[0m\u001b[0mX\u001b[0m\u001b[0;34m,\u001b[0m \u001b[0mY\u001b[0m\u001b[0;34m,\u001b[0m \u001b[0mbatch_size\u001b[0m\u001b[0;34m,\u001b[0m \u001b[0mepochs\u001b[0m \u001b[0;34m=\u001b[0m \u001b[0msteps_per_epoch\u001b[0m\u001b[0;34m,\u001b[0m \u001b[0mverbose\u001b[0m \u001b[0;34m=\u001b[0m \u001b[0;36m0\u001b[0m\u001b[0;34m,\u001b[0m \u001b[0mcallbacks\u001b[0m \u001b[0;34m=\u001b[0m \u001b[0;34m[\u001b[0m\u001b[0mlogging_callback\u001b[0m\u001b[0;34m]\u001b[0m\u001b[0;34m,\u001b[0m \u001b[0mshuffle\u001b[0m \u001b[0;34m=\u001b[0m \u001b[0;32mTrue\u001b[0m\u001b[0;34m)\u001b[0m\u001b[0;34m\u001b[0m\u001b[0;34m\u001b[0m\u001b[0m\n\u001b[1;32m     26\u001b[0m     \u001b[0;32mtry\u001b[0m\u001b[0;34m:\u001b[0m\u001b[0;34m\u001b[0m\u001b[0;34m\u001b[0m\u001b[0m\n",
            "\u001b[0;32m<ipython-input-4-5934224fe98e>\u001b[0m in \u001b[0;36mget_batch\u001b[0;34m(n_samples, height, width, channels)\u001b[0m\n\u001b[1;32m     14\u001b[0m     \u001b[0;31m#generate augmented images\u001b[0m\u001b[0;34m\u001b[0m\u001b[0;34m\u001b[0m\u001b[0;34m\u001b[0m\u001b[0m\n\u001b[1;32m     15\u001b[0m     \u001b[0my_train\u001b[0m \u001b[0;34m=\u001b[0m \u001b[0mimage_gen\u001b[0m\u001b[0;34m.\u001b[0m\u001b[0mflow_from_directory\u001b[0m\u001b[0;34m(\u001b[0m\u001b[0;34m'.'\u001b[0m\u001b[0;34m,\u001b[0m \u001b[0mtarget_size\u001b[0m \u001b[0;34m=\u001b[0m \u001b[0;34m(\u001b[0m\u001b[0mheight\u001b[0m \u001b[0;34m*\u001b[0m \u001b[0mscale\u001b[0m\u001b[0;34m,\u001b[0m \u001b[0mwidth\u001b[0m \u001b[0;34m*\u001b[0m \u001b[0mscale\u001b[0m\u001b[0;34m)\u001b[0m\u001b[0;34m,\u001b[0m \u001b[0mbatch_size\u001b[0m \u001b[0;34m=\u001b[0m \u001b[0mn_samples\u001b[0m\u001b[0;34m,\u001b[0m \u001b[0mclass_mode\u001b[0m \u001b[0;34m=\u001b[0m \u001b[0;32mNone\u001b[0m\u001b[0;34m,\u001b[0m \u001b[0mseed\u001b[0m \u001b[0;34m=\u001b[0m \u001b[0mrandom_seed\u001b[0m\u001b[0;34m)\u001b[0m\u001b[0;34m\u001b[0m\u001b[0;34m\u001b[0m\u001b[0m\n\u001b[0;32m---> 16\u001b[0;31m     \u001b[0my_train\u001b[0m \u001b[0;34m=\u001b[0m \u001b[0my_train\u001b[0m\u001b[0;34m.\u001b[0m\u001b[0m__getitem__\u001b[0m\u001b[0;34m(\u001b[0m\u001b[0;36m0\u001b[0m\u001b[0;34m)\u001b[0m\u001b[0;34m.\u001b[0m\u001b[0mcopy\u001b[0m\u001b[0;34m(\u001b[0m\u001b[0;34m)\u001b[0m \u001b[0;31m#fix for 'array doesn't own its data'\u001b[0m\u001b[0;34m\u001b[0m\u001b[0;34m\u001b[0m\u001b[0m\n\u001b[0m\u001b[1;32m     17\u001b[0m     \u001b[0mx_train\u001b[0m \u001b[0;34m=\u001b[0m \u001b[0mnp\u001b[0m\u001b[0;34m.\u001b[0m\u001b[0mempty\u001b[0m\u001b[0;34m(\u001b[0m\u001b[0;34m(\u001b[0m\u001b[0mlen\u001b[0m\u001b[0;34m(\u001b[0m\u001b[0my_train\u001b[0m\u001b[0;34m)\u001b[0m\u001b[0;34m,\u001b[0m \u001b[0mheight\u001b[0m\u001b[0;34m,\u001b[0m \u001b[0mwidth\u001b[0m\u001b[0;34m,\u001b[0m \u001b[0mchannels\u001b[0m\u001b[0;34m)\u001b[0m\u001b[0;34m)\u001b[0m\u001b[0;34m\u001b[0m\u001b[0;34m\u001b[0m\u001b[0m\n\u001b[1;32m     18\u001b[0m     \u001b[0;32mfor\u001b[0m \u001b[0mi\u001b[0m \u001b[0;32min\u001b[0m \u001b[0mrange\u001b[0m\u001b[0;34m(\u001b[0m\u001b[0mn_samples\u001b[0m\u001b[0;34m)\u001b[0m\u001b[0;34m:\u001b[0m\u001b[0;34m\u001b[0m\u001b[0;34m\u001b[0m\u001b[0m\n",
            "\u001b[0;32m/usr/local/lib/python3.6/dist-packages/keras_preprocessing/image/iterator.py\u001b[0m in \u001b[0;36m__getitem__\u001b[0;34m(self, idx)\u001b[0m\n\u001b[1;32m     55\u001b[0m                              \u001b[0;34m'but the Sequence '\u001b[0m\u001b[0;34m\u001b[0m\u001b[0;34m\u001b[0m\u001b[0m\n\u001b[1;32m     56\u001b[0m                              'has length {length}'.format(idx=idx,\n\u001b[0;32m---> 57\u001b[0;31m                                                           length=len(self)))\n\u001b[0m\u001b[1;32m     58\u001b[0m         \u001b[0;32mif\u001b[0m \u001b[0mself\u001b[0m\u001b[0;34m.\u001b[0m\u001b[0mseed\u001b[0m \u001b[0;32mis\u001b[0m \u001b[0;32mnot\u001b[0m \u001b[0;32mNone\u001b[0m\u001b[0;34m:\u001b[0m\u001b[0;34m\u001b[0m\u001b[0;34m\u001b[0m\u001b[0m\n\u001b[1;32m     59\u001b[0m             \u001b[0mnp\u001b[0m\u001b[0;34m.\u001b[0m\u001b[0mrandom\u001b[0m\u001b[0;34m.\u001b[0m\u001b[0mseed\u001b[0m\u001b[0;34m(\u001b[0m\u001b[0mself\u001b[0m\u001b[0;34m.\u001b[0m\u001b[0mseed\u001b[0m \u001b[0;34m+\u001b[0m \u001b[0mself\u001b[0m\u001b[0;34m.\u001b[0m\u001b[0mtotal_batches_seen\u001b[0m\u001b[0;34m)\u001b[0m\u001b[0;34m\u001b[0m\u001b[0;34m\u001b[0m\u001b[0m\n",
            "\u001b[0;31mValueError\u001b[0m: Asked to retrieve element 0, but the Sequence has length 0"
          ]
        }
      ]
    },
    {
      "cell_type": "markdown",
      "metadata": {
        "colab_type": "text",
        "id": "xo-_GBp6NE8s"
      },
      "source": [
        "### validate on complete picture"
      ]
    },
    {
      "cell_type": "code",
      "metadata": {
        "id": "MP04S4f1l0qr",
        "colab_type": "code",
        "colab": {}
      },
      "source": [
        "# show image in actual size https://stackoverflow.com/a/42314798/\n",
        "def display_image_in_actual_size(im_data):\n",
        "    dpi = 100\n",
        "    height, width, depth = im_data.shape\n",
        "    figsize = width / float(dpi), height / float(dpi)\n",
        "    fig = plt.figure(figsize=figsize)\n",
        "    ax = fig.add_axes([0, 0, 1, 1])\n",
        "    ax.axis('off')\n",
        "    ax.imshow(im_data, cmap='gray')\n",
        "    plt.show()"
      ],
      "execution_count": 0,
      "outputs": []
    },
    {
      "cell_type": "code",
      "metadata": {
        "colab_type": "code",
        "id": "XzRnnhw6fRkH",
        "colab": {}
      },
      "source": [
        "from PIL import Image\n",
        "img = np.array(Image.open('./Set14/lenna.png'))\n",
        "img = img /127.5 -1\n",
        "x = inputs = Input(shape = img.shape)\n",
        "x = Conv2D(32, kernel_size = 3, padding = 'same', activation = 'tanh')(x)\n",
        "x = residual_block(x)\n",
        "x = residual_block(x)\n",
        "x = residual_block(x)\n",
        "x = residual_block(x)\n",
        "x = Conv2D(3, kernel_size = 3, padding = 'same', activation = 'tanh')(x)\n",
        "x = fast_normalization(x)\n",
        "x = upsample(x)\n",
        "x = upsample(x)\n",
        "generator = Model(inputs = inputs, outputs = x)\n",
        "print('trying to load last saved weights...', end = ' ')\n",
        "try:\n",
        "    generator.load_weights('superresolution_weights')\n",
        "    print('success.')\n",
        "except:\n",
        "    print('failed')\n",
        "    pass\n",
        "predicted = generator.predict(np.expand_dims((img), 0))\n",
        "print('ground truth:')\n",
        "img = (img + 1) * 127.5\n",
        "display_image_in_actual_size(img.astype(np.uint8))\n",
        "print('superresolution:')\n",
        "predicted = np.squeeze(predicted)\n",
        "predicted = (predicted + 1) * 127.5\n",
        "display_image_in_actual_size(predicted.astype(np.uint8))\n",
        "predicted = Image.fromarray(predicted.astype(np.uint8))\n",
        "print('trying to save image as \\'superresolution_result.png\\'...', end = ' ')\n",
        "try:\n",
        "    predicted.save('superresolution_result.png', \"PNG\")\n",
        "    print('success.')\n",
        "except:\n",
        "    print('failed.')\n",
        "    pass"
      ],
      "execution_count": 0,
      "outputs": []
    }
  ]
}